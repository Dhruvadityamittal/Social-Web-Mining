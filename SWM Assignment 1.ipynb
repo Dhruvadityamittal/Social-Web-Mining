{
 "cells": [
  {
   "cell_type": "code",
   "execution_count": 27,
   "id": "517624a3",
   "metadata": {},
   "outputs": [
    {
     "name": "stdout",
     "output_type": "stream",
     "text": [
      "Common Trending topics between world and India are:\n",
      "[\"hobi\", \"rangi sari\", \"jhope\", \"Nation Remembers Disha Salian\", \"HAPPY BIRTHDAY GASHMEER\", \"Rupay\", \"hoseok\"]\n"
     ]
    }
   ],
   "source": [
    "import twitter\n",
    "import json\n",
    "\n",
    "CONSUMER_KEY = \"zQZLXhFIXIY6cmdvW3Aspc7BJ\"\n",
    "CONSUMER_SECRET = \"StcUuIC2ALEOPL7KzOvvvwiWHBiUclIvYxgCQ1OIQyBRQoXmkB\"\n",
    "ACCESS_TOKEN = \"3258759740-jzFhbm8VOmTcWL5VIHouCsCxWr8UKN4KpTxCrKP\"\n",
    "ACCESS_TOKEN_SECRET = \"zS8Px4bZxHJFWZge0l9mXCNYs4ijVWwX1wPdqcXmuKrU6\"\n",
    "auth = twitter.oauth.OAuth(ACCESS_TOKEN, ACCESS_TOKEN_SECRET,CONSUMER_KEY, CONSUMER_SECRET)\n",
    "twitter_api = twitter.Twitter(auth = auth)\n",
    "\n",
    "\n",
    "WORLD_WOEID = 1\n",
    "INDIA_WOEID = 2282863\n",
    "world_trends = twitter_api.trends.place(_id=WORLD_WOEID)\n",
    "ind_trends = twitter_api.trends.place(_id=INDIA_WOEID)\n",
    "\n",
    "world_trends_set = set([trend['name'] for trend in world_trends[0]['trends']])  # world trending topics\n",
    "ind_trends_set = set([trend['name'] for trend in ind_trends[0]['trends']])        # Trending topics in India\n",
    "common_trends = world_trends_set.intersection(ind_trends_set) # Common trends in India and World\n",
    "\n",
    "print(\"Common Trending topics between world and India are:\")\n",
    "print(json.dumps(list(common_trends)))\n"
   ]
  },
  {
   "cell_type": "code",
   "execution_count": 26,
   "id": "89cef818",
   "metadata": {},
   "outputs": [
    {
     "name": "stdout",
     "output_type": "stream",
     "text": [
      "[\n",
      " \"Taj Mahal, Inde https://t.co/nzhrLTHaFn\",\n",
      " \"RT @cpsavesoil: .@SadhguruJV and #SaveSoil at the Taj Mahal in Agra\\nAction Now: https://t.co/z6MmqMf5nE\\n#ConsciousPlanet https://t.co/jR6cw\\u2026\",\n",
      " \"RT @fgautier26: People who could not construct a decent house in their own land even 200years ago, but they built Taj Mahal, Qutub Minar. C\\u2026\",\n",
      " \"@ApoorvV89341819 @BeingSuhanakhan Shah Jahan built the Taj Mahal in memory of his wife, there is the tomb of Shah J\\u2026 https://t.co/hSBsBqfbrR\",\n",
      " \"@ExitStageLeft57 @ThatEricAlper I love Taj Mahal and I\\u2019ve seen him live a couple times\",\n",
      " \"Trabajando mucho para poder conocer el \\\"Taj Mahal\\\"\\ud83d\\udc95\\ud83d\\ude4c\\ud83c\\udffb\\ud83d\\udcab\\ud83e\\udd17\",\n",
      " \"RT @cpsavesoil: .@SadhguruJV and #SaveSoil at the Taj Mahal in Agra\\nAction Now: https://t.co/z6MmqMf5nE\\n#ConsciousPlanet https://t.co/jR6cw\\u2026\",\n",
      " \"RT @JoramvKlaveren: Ironic in times of Islamophobia: India uses the Islamic Taj Mahal, Israel the Dome of the Rock and Spain Alhambra to ad\\u2026\",\n",
      " \"@ill14lli @hatimaltaie No it was not. Indian Right Wing is famous for creating conspiracy theories to promote Hindu\\u2026 https://t.co/Qq31oznK1o\",\n",
      " \"RT @cpsavesoil: .@SadhguruJV and #SaveSoil at the Taj Mahal in Agra\\nAction Now: https://t.co/z6MmqMf5nE\\n#ConsciousPlanet https://t.co/jR6cw\\u2026\",\n",
      " \"There is no solid proof of who built the Taj Mahal. #fact\",\n",
      " \"RT @cpsavesoil: .@SadhguruJV and #SaveSoil at the Taj Mahal in Agra\\nAction Now: https://t.co/z6MmqMf5nE\\n#ConsciousPlanet https://t.co/jR6cw\\u2026\",\n",
      " \"RT @cpsavesoil: .@SadhguruJV and #SaveSoil at the Taj Mahal in Agra\\nAction Now: https://t.co/z6MmqMf5nE\\n#ConsciousPlanet https://t.co/jR6cw\\u2026\",\n",
      " \"RT @cpsavesoil: .@SadhguruJV and #SaveSoil at the Taj Mahal in Agra\\nAction Now: https://t.co/z6MmqMf5nE\\n#ConsciousPlanet https://t.co/jR6cw\\u2026\",\n",
      " \"RT @cpsavesoil: .@SadhguruJV and #SaveSoil at the Taj Mahal in Agra\\nAction Now: https://t.co/z6MmqMf5nE\\n#ConsciousPlanet https://t.co/jR6cw\\u2026\",\n",
      " \"RT @M47867847Khushi: @DhruwSwati @Gashmeer Uss zamane mein taj mahal banane wale mazdooro  ki haath kaat di gyi thi ki dobara na bna sake w\\u2026\",\n",
      " \"CII is organizing the 2nd edition of its #Cloud Summit with the theme \\u201cCloud \\u2013 The Bedrock of #Digital Transformati\\u2026 https://t.co/PHUqGzULWd\",\n",
      " \"RT @proudlymessedup: And you thought Taj Mahal is the only white wonder in Bharat\\u2026\\n\\n@LostTemple7 https://t.co/1bt8pCqgcg\",\n",
      " \"Ivete Sangalo - Pa\\u00eds Tropical / Arer\\u00ea / Taj Mahal (Ao Vivo)\",\n",
      " \"RT @riya_sparkles: Bharat has not only Taj Mahal... https://t.co/Wt54Mypfai\",\n",
      " \"RT @cpsavesoil: .@SadhguruJV and #SaveSoil at the Taj Mahal in Agra\\nAction Now: https://t.co/z6MmqMf5nE\\n#ConsciousPlanet https://t.co/jR6cw\\u2026\",\n",
      " \"India, Taj Mahal. The entry gate  \\nhttps://t.co/s6LJCpnnCF \\n#Inde #India https://t.co/1gfbCQKwX0\",\n",
      " \"The Taj Mahal is more than just a mausoleum - it has been described by the poet Rabindranath Tagore as a \\\"teardrop\\u2026 https://t.co/JDezG2MTHH\",\n",
      " \"RT @riya_sparkles: Bharat has not only Taj Mahal... https://t.co/Wt54Mypfai\",\n",
      " \"RT @cpsavesoil: .@SadhguruJV and #SaveSoil at the Taj Mahal in Agra\\nAction Now: https://t.co/z6MmqMf5nE\\n#ConsciousPlanet https://t.co/jR6cw\\u2026\",\n",
      " \"RT @cpsavesoil: .@SadhguruJV and #SaveSoil at the Taj Mahal in Agra\\nAction Now: https://t.co/z6MmqMf5nE\\n#ConsciousPlanet https://t.co/jR6cw\\u2026\",\n",
      " \"RT @JoramvKlaveren: Ironic in times of Islamophobia: India uses the Islamic Taj Mahal, Israel the Dome of the Rock and Spain Alhambra to ad\\u2026\",\n",
      " \"RT @cpsavesoil: .@SadhguruJV and #SaveSoil at the Taj Mahal in Agra\\nAction Now: https://t.co/z6MmqMf5nE\\n#ConsciousPlanet https://t.co/jR6cw\\u2026\",\n",
      " \"RT @riya_sparkles: Bharat has not only Taj Mahal... https://t.co/Wt54Mypfai\",\n",
      " \"RT @cpsavesoil: .@SadhguruJV and #SaveSoil at the Taj Mahal in Agra\\nAction Now: https://t.co/z6MmqMf5nE\\n#ConsciousPlanet https://t.co/jR6cw\\u2026\",\n",
      " \"RT @riya_sparkles: Bharat has not only Taj Mahal... https://t.co/Wt54Mypfai\",\n",
      " \"@ydl1482004 Tera bhi taj mahal pose wla degree hai?\\ud83d\\ude02\",\n",
      " \"RT @cpsavesoil: .@SadhguruJV and #SaveSoil at the Taj Mahal in Agra\\nAction Now: https://t.co/z6MmqMf5nE\\n#ConsciousPlanet https://t.co/jR6cw\\u2026\",\n",
      " \"@DhruwSwati @Gashmeer Uss zamane mein taj mahal banane wale mazdooro  ki haath kaat di gyi thi ki dobara na bna sak\\u2026 https://t.co/Aw4VTbtaR0\",\n",
      " \"RT @cpsavesoil: .@SadhguruJV and #SaveSoil at the Taj Mahal in Agra\\nAction Now: https://t.co/z6MmqMf5nE\\n#ConsciousPlanet https://t.co/jR6cw\\u2026\",\n",
      " \"RT @thevashudevIND: People say their ancestors build Taj Mahal. #\\u092e\\u0939\\u093e\\u0928_\\u0936\\u093e\\u0938\\u0915_\\u0914\\u0930\\u0902\\u0917\\u091c\\u0947\\u092c https://t.co/6p7B9O0jGY\",\n",
      " \"RT @cpsavesoil: .@SadhguruJV and #SaveSoil at the Taj Mahal in Agra\\nAction Now: https://t.co/z6MmqMf5nE\\n#ConsciousPlanet https://t.co/jR6cw\\u2026\",\n",
      " \"RT @leilasiyad: 1- France \\ud83c\\uddeb\\ud83c\\uddf7 has the Eiffel Tower\\n2- Egypt \\ud83c\\uddea\\ud83c\\uddec has the Pyramids\\n3- India \\ud83c\\uddee\\ud83c\\uddf3 has the Taj Mahal\\n4- China \\ud83c\\udde8\\ud83c\\uddf3 has Great Wall\\n5-\\u2026\",\n",
      " \"RT @cpsavesoil: .@SadhguruJV and #SaveSoil at the Taj Mahal in Agra\\nAction Now: https://t.co/z6MmqMf5nE\\n#ConsciousPlanet https://t.co/jR6cw\\u2026\",\n",
      " \"RT @leilasiyad: 1- France \\ud83c\\uddeb\\ud83c\\uddf7 has the Eiffel Tower\\n2- Egypt \\ud83c\\uddea\\ud83c\\uddec has the Pyramids\\n3- India \\ud83c\\uddee\\ud83c\\uddf3 has the Taj Mahal\\n4- China \\ud83c\\udde8\\ud83c\\uddf3 has Great Wall\\n5-\\u2026\",\n",
      " \"RT @PRAVESHPARAS: 1860: Trees covered around Taj Mahal. But Now ? \\n#WorldEnvironmentDay \\n@IndiaHistorypic https://t.co/2DOpMLTDYa\",\n",
      " \"RT @cpsavesoil: .@SadhguruJV and #SaveSoil at the Taj Mahal in Agra\\nAction Now: https://t.co/z6MmqMf5nE\\n#ConsciousPlanet https://t.co/jR6cw\\u2026\",\n",
      " \"RT @cpsavesoil: .@SadhguruJV and #SaveSoil at the Taj Mahal in Agra\\nAction Now: https://t.co/z6MmqMf5nE\\n#ConsciousPlanet https://t.co/jR6cw\\u2026\",\n",
      " \"RT @cpsavesoil: .@SadhguruJV and #SaveSoil at the Taj Mahal in Agra\\nAction Now: https://t.co/z6MmqMf5nE\\n#ConsciousPlanet https://t.co/jR6cw\\u2026\",\n",
      " \"RT @cpsavesoil: .@SadhguruJV and #SaveSoil at the Taj Mahal in Agra\\nAction Now: https://t.co/z6MmqMf5nE\\n#ConsciousPlanet https://t.co/jR6cw\\u2026\",\n",
      " \"RT @cpsavesoil: .@SadhguruJV and #SaveSoil at the Taj Mahal in Agra\\nAction Now: https://t.co/z6MmqMf5nE\\n#ConsciousPlanet https://t.co/jR6cw\\u2026\",\n",
      " \"RT @CountryRoadz10: @MahuaMoitra TAJ MAHAL - THE PREQUEL https://t.co/CAa0iE8Tn3\",\n",
      " \"@Piggy_Gamez @_FireMonkey Fortnite players smell gunpowder and immediately start building the Taj Mahal\",\n",
      " \"CII is organizing the 2nd edition of its #Cloud Summit with the theme \\u201cCloud \\u2013 The Bedrock of #Digital Transformati\\u2026 https://t.co/YBaBqKGqvN\",\n",
      " \"RT @cpsavesoil: .@SadhguruJV and #SaveSoil at the Taj Mahal in Agra\\nAction Now: https://t.co/z6MmqMf5nE\\n#ConsciousPlanet https://t.co/jR6cw\\u2026\",\n",
      " \"RT @BeingSuhanakhan: One of India\\u2019s most celebrated structures.. The Taj Mahal https://t.co/U1VV3020eK\",\n",
      " \"RT @dhruv_rathee: Taj Mahal is a real gem from India\\u2019s history. Officially, one of the new 7 wonders of world. Every true Indian would feel\\u2026\",\n",
      " \"RT @cpsavesoil: .@SadhguruJV and #SaveSoil at the Taj Mahal in Agra\\nAction Now: https://t.co/z6MmqMf5nE\\n#ConsciousPlanet https://t.co/jR6cw\\u2026\",\n",
      " \"RT @cpsavesoil: .@SadhguruJV and #SaveSoil at the Taj Mahal in Agra\\nAction Now: https://t.co/z6MmqMf5nE\\n#ConsciousPlanet https://t.co/jR6cw\\u2026\",\n",
      " \"@ApertureAce1 @Risen_Inferno @Daboyui Instant Taj Mahal vs .308 cal FMJ\",\n",
      " \"RT @JoramvKlaveren: Ironic in times of Islamophobia: India uses the Islamic Taj Mahal, Israel the Dome of the Rock and Spain Alhambra to ad\\u2026\",\n",
      " \"RT @2smart4ubg: C'est \\u00e0 cause de ces fdp qui construisent le Taj Mahal pour fumer 1 (un) mec que ce jeu n'a plus rien \\u00e0 raconter\",\n",
      " \"RT @cpsavesoil: .@SadhguruJV and #SaveSoil at the Taj Mahal in Agra\\nAction Now: https://t.co/z6MmqMf5nE\\n#ConsciousPlanet https://t.co/jR6cw\\u2026\",\n",
      " \"RT @cpsavesoil: .@SadhguruJV and #SaveSoil at the Taj Mahal in Agra\\nAction Now: https://t.co/z6MmqMf5nE\\n#ConsciousPlanet https://t.co/jR6cw\\u2026\",\n",
      " \"@VishwanathMurm7 @Raghavji78 @ROMESHSHAH2 Des barbad ho raha he or aap masjido me sivling dhund rahe ho or Taj Maha\\u2026 https://t.co/T8fgx2vK2t\",\n",
      " \"Majestic Taj Mahal - One of the Best Archeological sites of our country &amp; No Wonder it\\u2019s one of the Best Visiting P\\u2026 https://t.co/p00XId25s6\",\n",
      " \"RT @cpsavesoil: .@SadhguruJV and #SaveSoil at the Taj Mahal in Agra\\nAction Now: https://t.co/z6MmqMf5nE\\n#ConsciousPlanet https://t.co/jR6cw\\u2026\",\n",
      " \"RT @cpsavesoil: .@SadhguruJV and #SaveSoil at the Taj Mahal in Agra\\nAction Now: https://t.co/z6MmqMf5nE\\n#ConsciousPlanet https://t.co/jR6cw\\u2026\",\n",
      " \"RT @cpsavesoil: .@SadhguruJV and #SaveSoil at the Taj Mahal in Agra\\nAction Now: https://t.co/z6MmqMf5nE\\n#ConsciousPlanet https://t.co/jR6cw\\u2026\",\n",
      " \"RT @BeingSuhanakhan: One of India\\u2019s most celebrated structures.. The Taj Mahal https://t.co/U1VV3020eK\",\n",
      " \"RT @cpsavesoil: .@SadhguruJV and #SaveSoil at the Taj Mahal in Agra\\nAction Now: https://t.co/z6MmqMf5nE\\n#ConsciousPlanet https://t.co/jR6cw\\u2026\",\n",
      " \"RT @cpsavesoil: .@SadhguruJV and #SaveSoil at the Taj Mahal in Agra\\nAction Now: https://t.co/z6MmqMf5nE\\n#ConsciousPlanet https://t.co/jR6cw\\u2026\",\n",
      " \"RT @cpsavesoil: .@SadhguruJV and #SaveSoil at the Taj Mahal in Agra\\nAction Now: https://t.co/z6MmqMf5nE\\n#ConsciousPlanet https://t.co/jR6cw\\u2026\",\n",
      " \"RT @cpsavesoil: .@SadhguruJV and #SaveSoil at the Taj Mahal in Agra\\nAction Now: https://t.co/z6MmqMf5nE\\n#ConsciousPlanet https://t.co/jR6cw\\u2026\",\n",
      " \"@ShrimaanAbhi Bahi mujhe ek baat bataiyeee ek jgh nikla smj aaya ab inka h sari jgh nikl rha taj mahal me bataya mu\\u2026 https://t.co/3OiAldaIUX\",\n",
      " \"RT @cpsavesoil: .@SadhguruJV and #SaveSoil at the Taj Mahal in Agra\\nAction Now: https://t.co/z6MmqMf5nE\\n#ConsciousPlanet https://t.co/jR6cw\\u2026\",\n",
      " \"RT @MahiSha52854087: The Taj Mahal https://t.co/GWuFJ9pgqM\",\n",
      " \"@ThatEricAlper Taj Mahal...Elmore James...\",\n",
      " \"No, so i left shirtless walking down the boardwalk at 4am lost my keys and ironically my sister and pat were stayin\\u2026 https://t.co/eVRFou0Rue\",\n",
      " \"@JarlanPerez The 7 world wonders tour in a week!\\n\\nMon - Rome coliseum italia\\nTues - Petra Jordania\\nWen - Taj Mahal\\u2026 https://t.co/YL7LhTJPwy\",\n",
      " \"RT @Rohit_ddn: @NehaGup12439382 @shashank_ssj But as soon as Tamurhides and Arab came India \\n\\nThey started making Taj Mahal, Lal Quila, Kut\\u2026\",\n",
      " \"C'est \\u00e0 cause de ces fdp qui construisent le Taj Mahal pour fumer 1 (un) mec que ce jeu n'a plus rien \\u00e0 raconter https://t.co/hqK46mD1Bk\",\n",
      " \"RT @cpsavesoil: .@SadhguruJV and #SaveSoil at the Taj Mahal in Agra\\nAction Now: https://t.co/z6MmqMf5nE\\n#ConsciousPlanet https://t.co/jR6cw\\u2026\",\n",
      " \"RT @BeingSuhanakhan: One of India\\u2019s most celebrated structures.. The Taj Mahal https://t.co/U1VV3020eK\",\n",
      " \"@staryraa si taj mahal berada di india apakah aku akan jalan jalan ke dufan oh itu sangat mungkin apabila konsonan\\u2026 https://t.co/iGnbuOskTB\",\n",
      " \"RT @cpsavesoil: .@SadhguruJV and #SaveSoil at the Taj Mahal in Agra\\nAction Now: https://t.co/z6MmqMf5nE\\n#ConsciousPlanet https://t.co/jR6cw\\u2026\",\n",
      " \"RT @cpsavesoil: .@SadhguruJV and #SaveSoil at the Taj Mahal in Agra\\nAction Now: https://t.co/z6MmqMf5nE\\n#ConsciousPlanet https://t.co/jR6cw\\u2026\",\n",
      " \"At the most beautiful place in the world for a most beautiful cause by the most beautiful person #SaveSoil at Taj M\\u2026 https://t.co/oQaC6pRWFy\",\n",
      " \"RT @cpsavesoil: .@SadhguruJV and #SaveSoil at the Taj Mahal in Agra\\nAction Now: https://t.co/z6MmqMf5nE\\n#ConsciousPlanet https://t.co/jR6cw\\u2026\",\n",
      " \"RT @BeingSuhanakhan: One of India\\u2019s most celebrated structures.. The Taj Mahal https://t.co/U1VV3020eK\",\n",
      " \"RT @BeingSuhanakhan: One of India\\u2019s most celebrated structures.. The Taj Mahal https://t.co/U1VV3020eK\",\n",
      " \"RT @leilasiyad: 1- France \\ud83c\\uddeb\\ud83c\\uddf7 has the Eiffel Tower\\n2- Egypt \\ud83c\\uddea\\ud83c\\uddec has the Pyramids\\n3- India \\ud83c\\uddee\\ud83c\\uddf3 has the Taj Mahal\\n4- China \\ud83c\\udde8\\ud83c\\uddf3 has Great Wall\\n5-\\u2026\",\n",
      " \"Taj Mahal \\ud83c\\uddee\\ud83c\\uddf3\",\n",
      " \"RT @cpsavesoil: .@SadhguruJV and #SaveSoil at the Taj Mahal in Agra\\nAction Now: https://t.co/z6MmqMf5nE\\n#ConsciousPlanet https://t.co/jR6cw\\u2026\",\n",
      " \"@staldustt @sekutuselatan_ @rasjawa Baca sejarahnya taj mahal deh.. wkwkwk\",\n",
      " \"RT @JoramvKlaveren: Ironic in times of Islamophobia: India uses the Islamic Taj Mahal, Israel the Dome of the Rock and Spain Alhambra to ad\\u2026\",\n",
      " \"RT @Anils_tweat: \\u0924\\u093e\\u091c\\u092e\\u0939\\u0932 \\u092a\\u0930 \\u091c\\u093e\\u091f\\u094b\\u0902 \\u0928\\u0947 \\u0920\\u094b\\u0915\\u093e \\u0926\\u093e\\u0935\\u093e :\\n                   \\u092c\\u094b\\u0932\\u0947 ::\\n\\n\\\"\\u092f\\u094b \\u092e\\u094d\\u0939\\u093e\\u0930\\u0940 \\u092c\\u0948\\u0920\\u0915 \\u0925\\u0940\\\" \\n\\u092e\\u093f\\u0938\\u094d\\u0924\\u094d\\u0930\\u0940 \\u0915\\u094b JAT Mahal \\u0932\\u093f\\u0916\\u0928\\u0947 \\u0915\\u094b \\u092c\\u094b\\u0932\\u093e \\u0925\\u093e, \\u092c\\u093e\\u2026\",\n",
      " \"RT @cpsavesoil: .@SadhguruJV and #SaveSoil at the Taj Mahal in Agra\\nAction Now: https://t.co/z6MmqMf5nE\\n#ConsciousPlanet https://t.co/jR6cw\\u2026\",\n",
      " \"RT @BeingSuhanakhan: One of India\\u2019s most celebrated structures.. The Taj Mahal https://t.co/U1VV3020eK\",\n",
      " \"RT @cpsavesoil: .@SadhguruJV and #SaveSoil at the Taj Mahal in Agra\\nAction Now: https://t.co/z6MmqMf5nE\\n#ConsciousPlanet https://t.co/jR6cw\\u2026\",\n",
      " \"RT @Anils_tweat: \\u0924\\u093e\\u091c\\u092e\\u0939\\u0932 \\u092a\\u0930 \\u091c\\u093e\\u091f\\u094b\\u0902 \\u0928\\u0947 \\u0920\\u094b\\u0915\\u093e \\u0926\\u093e\\u0935\\u093e :\\n                   \\u092c\\u094b\\u0932\\u0947 ::\\n\\n\\\"\\u092f\\u094b \\u092e\\u094d\\u0939\\u093e\\u0930\\u0940 \\u092c\\u0948\\u0920\\u0915 \\u0925\\u0940\\\" \\n\\u092e\\u093f\\u0938\\u094d\\u0924\\u094d\\u0930\\u0940 \\u0915\\u094b JAT Mahal \\u0932\\u093f\\u0916\\u0928\\u0947 \\u0915\\u094b \\u092c\\u094b\\u0932\\u093e \\u0925\\u093e, \\u092c\\u093e\\u2026\",\n",
      " \"@staldustt @sekutuselatan_ @rasjawa Taj mahal sebenarnya itu kuburan wkwkwk\",\n",
      " \"\\u0924\\u093e\\u091c\\u092e\\u0939\\u0932 \\u092a\\u0930 \\u091c\\u093e\\u091f\\u094b\\u0902 \\u0928\\u0947 \\u0920\\u094b\\u0915\\u093e \\u0926\\u093e\\u0935\\u093e :\\n                   \\u092c\\u094b\\u0932\\u0947 ::\\n\\n\\\"\\u092f\\u094b \\u092e\\u094d\\u0939\\u093e\\u0930\\u0940 \\u092c\\u0948\\u0920\\u0915 \\u0925\\u0940\\\" \\n\\u092e\\u093f\\u0938\\u094d\\u0924\\u094d\\u0930\\u0940 \\u0915\\u094b JAT Mahal \\u0932\\u093f\\u0916\\u0928\\u0947 \\u0915\\u094b \\u092c\\u094b\\u0932\\u093e\\u2026 https://t.co/XJnvxBcacT\",\n",
      " \"RT @cpsavesoil: .@SadhguruJV and #SaveSoil at the Taj Mahal in Agra\\nAction Now: https://t.co/z6MmqMf5nE\\n#ConsciousPlanet https://t.co/jR6cw\\u2026\",\n",
      " \"Taj Mahal, 2022 https://t.co/KdcS7MeCef\"\n",
      "]\n"
     ]
    }
   ],
   "source": [
    "# Finding top 100 search results on a query...\n",
    "\n",
    "q = 'Taj Mahal'   # searching query on twitter \n",
    "count = 100       # count\n",
    "\n",
    "results = twitter_api.search.tweets(q=q, count=count)  \n",
    "statuses = results['statuses']\n",
    "text =[status['text'] for status in statuses]\n",
    "print(json.dumps(list(text),indent=1))"
   ]
  },
  {
   "cell_type": "code",
   "execution_count": 20,
   "id": "a5daee33",
   "metadata": {},
   "outputs": [
    {
     "data": {
      "text/plain": [
       "[{'text': 'SaveSoil', 'indices': [33, 42]},\n",
       " {'text': 'ConsciousPlanet', 'indices': [104, 120]}]"
      ]
     },
     "execution_count": 20,
     "metadata": {},
     "output_type": "execute_result"
    }
   ],
   "source": []
  },
  {
   "cell_type": "code",
   "execution_count": null,
   "id": "e38578e3",
   "metadata": {},
   "outputs": [],
   "source": []
  },
  {
   "cell_type": "code",
   "execution_count": null,
   "id": "5ae6bba8",
   "metadata": {},
   "outputs": [],
   "source": []
  }
 ],
 "metadata": {
  "kernelspec": {
   "display_name": "Python 3 (ipykernel)",
   "language": "python",
   "name": "python3"
  },
  "language_info": {
   "codemirror_mode": {
    "name": "ipython",
    "version": 3
   },
   "file_extension": ".py",
   "mimetype": "text/x-python",
   "name": "python",
   "nbconvert_exporter": "python",
   "pygments_lexer": "ipython3",
   "version": "3.9.12"
  }
 },
 "nbformat": 4,
 "nbformat_minor": 5
}
