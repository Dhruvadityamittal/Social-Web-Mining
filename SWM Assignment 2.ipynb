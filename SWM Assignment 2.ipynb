{
 "cells": [
  {
   "cell_type": "code",
   "execution_count": 3,
   "id": "da97a845",
   "metadata": {},
   "outputs": [],
   "source": [
    "import twitter\n",
    "import json\n",
    "\n",
    "CONSUMER_KEY = \"zQZLXhFIXIY6cmdvW3Aspc7BJ\"\n",
    "CONSUMER_SECRET = \"StcUuIC2ALEOPL7KzOvvvwiWHBiUclIvYxgCQ1OIQyBRQoXmkB\"\n",
    "ACCESS_TOKEN = \"3258759740-jzFhbm8VOmTcWL5VIHouCsCxWr8UKN4KpTxCrKP\"\n",
    "ACCESS_TOKEN_SECRET = \"zS8Px4bZxHJFWZge0l9mXCNYs4ijVWwX1wPdqcXmuKrU6\"\n",
    "auth = twitter.oauth.OAuth(ACCESS_TOKEN, ACCESS_TOKEN_SECRET,CONSUMER_KEY, CONSUMER_SECRET)\n",
    "twitter_api = twitter.Twitter(auth = auth)"
   ]
  },
  {
   "cell_type": "code",
   "execution_count": 4,
   "id": "6fff7de7",
   "metadata": {},
   "outputs": [],
   "source": [
    "# Fetching results based on language\n",
    "search_query = \"joe biden\"\n",
    "\n",
    "results_in_german = twitter_api.search.tweets(q=search_query, count=800, lang='de') \n",
    "results_in_english = twitter_api.search.tweets(q=search_query, count=800, lang='en') "
   ]
  },
  {
   "cell_type": "code",
   "execution_count": 5,
   "id": "cbd13772",
   "metadata": {},
   "outputs": [],
   "source": [
    "statuses_in_english=results_in_english['statuses']\n",
    "\n",
    "status_texts = [ status['text'] for status in statuses_in_english ]\n",
    "\n",
    "screen_names = [ user_mention['screen_name'] for status in statuses_in_english \n",
    "                for user_mention in status['entities']['user_mentions'] ]\n",
    "\n",
    "hashtags = [ hashtag['text'] for status in statuses_in_english \n",
    "            for hashtag in status['entities']['hashtags'] ]"
   ]
  },
  {
   "cell_type": "code",
   "execution_count": 6,
   "id": "eaef8e8d",
   "metadata": {},
   "outputs": [
    {
     "name": "stdout",
     "output_type": "stream",
     "text": [
      "[\n",
      "    \"RepMaryMiller\",\n",
      "    \"theliamnissan\",\n",
      "    \"laurenboebert\",\n",
      "    \"LegionSocialist\",\n",
      "    \"OccupyDemocrats\"\n",
      "]\n",
      "[\n",
      "    \"inflation\",\n",
      "    \"defconwsalerts\",\n",
      "    \"FreePalestine\",\n",
      "    \"FreePalestine\"\n",
      "]\n",
      "[\n",
      "    \"RT\",\n",
      "    \"@RepMaryMiller:\",\n",
      "    \"Before\",\n",
      "    \"Joe\",\n",
      "    \"Biden\"\n",
      "]\n"
     ]
    }
   ],
   "source": [
    "words = [ w for t in status_texts for w in t.split() ]\n",
    "print(json.dumps(screen_names[0:5], indent=4))\n",
    "print(json.dumps(hashtags[0:5], indent=4))\n",
    "print(json.dumps(words[0:5], indent=4))"
   ]
  },
  {
   "cell_type": "code",
   "execution_count": 7,
   "id": "d5a726f3",
   "metadata": {},
   "outputs": [
    {
     "name": "stdout",
     "output_type": "stream",
     "text": [
      "[('FreePalestine', 2), ('inflation', 1), ('defconwsalerts', 1)]\n"
     ]
    }
   ],
   "source": [
    "from collections import Counter\n",
    "\n",
    "for cl in [words, screen_names, hashtags]:\n",
    "    a=1\n",
    "c = Counter(cl)\n",
    "print(c.most_common()[:3]) # top 3"
   ]
  },
  {
   "cell_type": "code",
   "execution_count": 10,
   "id": "c447af8d",
   "metadata": {},
   "outputs": [
    {
     "name": "stdout",
     "output_type": "stream",
     "text": [
      "+-------+-------+\n",
      "| Word  | Count |\n",
      "+-------+-------+\n",
      "| RT    |    85 |\n",
      "| a     |    76 |\n",
      "| the   |    58 |\n",
      "| Joe   |    53 |\n",
      "| Biden |    49 |\n",
      "| to    |    43 |\n",
      "| of    |    42 |\n",
      "| for   |    28 |\n",
      "| is    |    27 |\n",
      "| in    |    23 |\n",
      "+-------+-------+\n",
      "+-----------------+-------+\n",
      "| Screen Name     | Count |\n",
      "+-----------------+-------+\n",
      "| OccupyDemocrats |    12 |\n",
      "| RepMaryMiller   |     5 |\n",
      "| miniminicult    |     5 |\n",
      "| JesseKellyDC    |     5 |\n",
      "| RileyMooreWV    |     4 |\n",
      "| NickAdamsinUSA  |     4 |\n",
      "| theliamnissan   |     3 |\n",
      "| FoxNews         |     3 |\n",
      "| TulsiGabbard    |     3 |\n",
      "| DanielTurnerPTF |     3 |\n",
      "+-----------------+-------+\n",
      "+----------------+-------+\n",
      "| Hashtag        | Count |\n",
      "+----------------+-------+\n",
      "| FreePalestine  |     2 |\n",
      "| inflation      |     1 |\n",
      "| defconwsalerts |     1 |\n",
      "+----------------+-------+\n"
     ]
    }
   ],
   "source": [
    "from prettytable import PrettyTable\n",
    "for label, data in (('Word', words),('Screen Name', screen_names),('Hashtag', hashtags)):\n",
    "    pt = PrettyTable(field_names=[label, 'Count'])\n",
    "    c = Counter(data)\n",
    "    [ pt.add_row(kv) for kv in c.most_common()[:10] ]\n",
    "    pt.align[label], pt.align['Count'] = 'l', 'r'\n",
    "    print(pt)"
   ]
  },
  {
   "cell_type": "code",
   "execution_count": 12,
   "id": "be970c4d",
   "metadata": {},
   "outputs": [
    {
     "data": {
      "text/plain": [
       "Text(0.5, 0, 'Word Rank')"
      ]
     },
     "execution_count": 12,
     "metadata": {},
     "output_type": "execute_result"
    },
    {
     "data": {
      "image/png": "[encoded data removed]",
      "text/plain": [
       "<Figure size 432x288 with 1 Axes>"
      ]
     },
     "metadata": {
      "needs_background": "light"
     },
     "output_type": "display_data"
    }
   ],
   "source": [
    "import matplotlib.pylab as plt\n",
    "\n",
    "word_counts = sorted(Counter(words).values(), reverse=True)\n",
    "plt.loglog(word_counts)\n",
    "plt.ylabel(\"Freq\")\n",
    "plt.xlabel(\"Word Rank\")"
   ]
  },
  {
   "cell_type": "code",
   "execution_count": 13,
   "id": "22c18f68",
   "metadata": {},
   "outputs": [
    {
     "data": {
      "image/png": "[encoded data removed]",
      "text/plain": [
       "<Figure size 432x288 with 1 Axes>"
      ]
     },
     "metadata": {
      "needs_background": "light"
     },
     "output_type": "display_data"
    },
    {
     "data": {
      "image/png": "[encoded data removed]",
      "text/plain": [
       "<Figure size 432x288 with 1 Axes>"
      ]
     },
     "metadata": {
      "needs_background": "light"
     },
     "output_type": "display_data"
    },
    {
     "data": {
      "image/png": "[encoded data removed]",
      "text/plain": [
       "<Figure size 432x288 with 1 Axes>"
      ]
     },
     "metadata": {
      "needs_background": "light"
     },
     "output_type": "display_data"
    },
    {
     "data": {
      "text/plain": [
       "<Figure size 432x288 with 0 Axes>"
      ]
     },
     "metadata": {},
     "output_type": "display_data"
    }
   ],
   "source": [
    "for label, data in (('Words', words),('Screen Names', screen_names),('Hashtags', hashtags)):\n",
    "    c = Counter(data)\n",
    "    plt.hist(c.values())\n",
    "    plt.title(label)\n",
    "    plt.ylabel(\"Number of items in bin\")\n",
    "    plt.xlabel(\"Bins (number of times an item appeared)\")\n",
    "    plt.figure()"
   ]
  },
  {
   "cell_type": "code",
   "execution_count": 17,
   "id": "d6cabc0f",
   "metadata": {},
   "outputs": [
    {
     "data": {
      "text/plain": [
       "0.3358815097945533"
      ]
     },
     "execution_count": 17,
     "metadata": {},
     "output_type": "execute_result"
    }
   ],
   "source": [
    "def lexical_diversity(tokens):\n",
    "    return len(set(tokens)) / len(tokens)\n",
    "def average_words(statuses):\n",
    "    total_words = sum([ len(s.split()) for s in statuses ])\n",
    "    return total_words / len(statuses)\n",
    "\n",
    "lexical_diversity(words)"
   ]
  },
  {
   "cell_type": "code",
   "execution_count": 22,
   "id": "0e13b6b5",
   "metadata": {},
   "outputs": [],
   "source": [
    "retweets = [(status['retweet_count'],status['retweeted_status']['user']['screen_name'],status['text'])\n",
    "                for status in statuses_in_english if 'retweeted_status' in status]\n",
    "top_retweets = sorted(list(set(retweets)), reverse=True)[:5]"
   ]
  },
  {
   "cell_type": "code",
   "execution_count": 38,
   "id": "ce8c7121",
   "metadata": {},
   "outputs": [
    {
     "name": "stdout",
     "output_type": "stream",
     "text": [
      "+-------------------------+-----------------------------------+----------------------------------------------------------------------------------------------------------------------------------------------------------------+\n",
      "|          Count          |            Screen Name            |                                                                                                                                                  Text          |\n",
      "+-------------------------+-----------------------------------+----------------------------------------------------------------------------------------------------------------------------------------------------------------+\n",
      "|          13772          |          DanielTurnerPTF          |                                         RT @DanielTurnerPTF: Joe Biden laid off 11,000 Keystone XL pipeline workers just to beg Saudi Arabia for oil.          |\n",
      "|          13495          |          OccupyDemocrats          |           RT @OccupyDemocrats: BREAKING: Kyle Rittenhouse posts a threatening video of himself firing a fully automatic rotary machine gun, the same…          |\n",
      "|           7934          |             lukerosiak            |          RT @lukerosiak: A prostitute who bought crack for and had orgies with Hunter Biden got a $20,000 federal PPP stimulus for her \"female owned…          |\n",
      "|           7766          |           laurenboebert           |                   RT @laurenboebert: Did Joe Biden conduct background checks on the Taliban before he gave them countless guns, tanks and ammunition?          |\n",
      "|           5124          |            JesseKellyDC           |          RT @JesseKellyDC: Did you know two people were facing 30 years in prison for firebombing a NYPD cop car during the Saint George Floyd riots…          |\n",
      "+-------------------------+-----------------------------------+----------------------------------------------------------------------------------------------------------------------------------------------------------------+\n"
     ]
    }
   ],
   "source": [
    "top_retweets\n",
    "pt = PrettyTable(field_names=['Count','Screen Name','Text'])\n",
    "pt.border = True\n",
    "pt.header = True\n",
    "pt.padding_width = 10\n",
    "c = Counter(data)\n",
    "[pt.add_row(kv) for kv in top_retweets]\n",
    "pt.align['count'], pt.align['Screen Name'], pt.align['Text']='l','c','r'\n",
    "print(pt)"
   ]
  },
  {
   "cell_type": "code",
   "execution_count": 30,
   "id": "5c7f7b65",
   "metadata": {},
   "outputs": [
    {
     "name": "stdout",
     "output_type": "stream",
     "text": [
      "[1952, 3775, 7766, 22, 1492, 13495, 389, 1077, 13495, 1077, 922, 2997, 1462, 7934, 25, 1, 69, 1462, 40, 125, 4, 13495, 13495, 795, 933, 1771, 16, 25, 69, 206, 1386, 5124, 1, 1076, 13772, 2907, 389, 5124, 13772, 162, 210, 6, 13495, 13495, 1547, 2997, 206, 1952, 389, 1, 13495, 1952, 389, 2, 3382, 3775, 7766, 3775, 13772, 13495, 1335, 2, 1771, 1952, 1077, 262, 13495, 1462, 158, 922, 158, 13495, 453, 7934, 795, 162, 389, 1462, 13495, 5124, 61, 3382, 1952, 42, 312]\n"
     ]
    },
    {
     "data": {
      "image/png": "[encoded data removed]",
      "text/plain": [
       "<Figure size 432x288 with 1 Axes>"
      ]
     },
     "metadata": {
      "needs_background": "light"
     },
     "output_type": "display_data"
    }
   ],
   "source": [
    "counts = [count for count, _, _ in retweets]\n",
    "plt.hist(counts)\n",
    "plt.title(\"Retweets\")\n",
    "plt.xlabel('Bins (number of times retweeted)')\n",
    "plt.ylabel('Number of tweets in bin')\n",
    "print(counts)"
   ]
  },
  {
   "cell_type": "code",
   "execution_count": null,
   "id": "a319da9d",
   "metadata": {},
   "outputs": [],
   "source": []
  }
 ],
 "metadata": {
  "kernelspec": {
   "display_name": "Python 3 (ipykernel)",
   "language": "python",
   "name": "python3"
  },
  "language_info": {
   "codemirror_mode": {
    "name": "ipython",
    "version": 3
   },
   "file_extension": ".py",
   "mimetype": "text/x-python",
   "name": "python",
   "nbconvert_exporter": "python",
   "pygments_lexer": "ipython3",
   "version": "3.9.12"
  }
 },
 "nbformat": 4,
 "nbformat_minor": 5
}
